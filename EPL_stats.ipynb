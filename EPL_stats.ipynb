{
 "cells": [
  {
   "cell_type": "markdown",
   "metadata": {},
   "source": [
    "# This code is used to analyze EPL stats\n",
    "## Data acquired from http://www.football-data.co.uk/englandm.php\n",
    "\n"
   ]
  },
  {
   "cell_type": "markdown",
   "metadata": {},
   "source": [
    "Brainstorming ideas:\n",
    "    1. maybe make a lookup table for what numbers are associated with what parameters\n",
    "    2. eventually make a user interface for selections"
   ]
  },
  {
   "cell_type": "code",
   "execution_count": 1,
   "metadata": {},
   "outputs": [],
   "source": [
    "import os\n",
    "import pandas as pd\n",
    "import numpy as np\n",
    "from datetime import datetime\n",
    "import soccer_wx_utils\n",
    "import netCDF4 as nc"
   ]
  },
  {
   "cell_type": "code",
   "execution_count": 2,
   "metadata": {},
   "outputs": [],
   "source": [
    "path = 'EPL_stats/'\n",
    "hometeam = 'Chelsea' #pick the team you want to analyze\n",
    "hometeam_lat =  51.48205052791857 \n",
    "hometeam_lon = -0.1909135846571512 #enter the coordinates of the home team's stadium (only valid if outdoor)"
   ]
  },
  {
   "cell_type": "code",
   "execution_count": 3,
   "metadata": {},
   "outputs": [
    {
     "data": {
      "text/plain": [
       "(178, 106)"
      ]
     },
     "execution_count": 3,
     "metadata": {},
     "output_type": "execute_result"
    }
   ],
   "source": [
    "all_stats = pd.read_csv(path+'20-21.csv')\n",
    "\n",
    "\n",
    "all_stats.shape\n"
   ]
  },
  {
   "cell_type": "code",
   "execution_count": 4,
   "metadata": {},
   "outputs": [],
   "source": [
    "hometeam_stats = all_stats[all_stats['HomeTeam'] == hometeam]"
   ]
  },
  {
   "cell_type": "code",
   "execution_count": 5,
   "metadata": {
    "scrolled": true
   },
   "outputs": [
    {
     "name": "stdout",
     "output_type": "stream",
     "text": [
      "    Div        Date   Time HomeTeam          AwayTeam  FTHG  FTAG FTR  HTHG  \\\n",
      "14   E0  20/09/2020  16:30  Chelsea         Liverpool     0     2   A     0   \n",
      "28   E0   3/10/2020  12:30  Chelsea    Crystal Palace     4     0   H     0   \n",
      "39   E0  17/10/2020  15:00  Chelsea       Southampton     3     3   D     2   \n",
      "72   E0   7/11/2020  17:30  Chelsea  Sheffield United     4     1   H     2   \n",
      "94   E0  29/11/2020  16:30  Chelsea         Tottenham     0     0   D     0   \n",
      "101  E0   5/12/2020  20:00  Chelsea             Leeds     3     1   H     1   \n",
      "136  E0  21/12/2020  20:00  Chelsea          West Ham     3     0   H     1   \n",
      "148  E0  28/12/2020  17:30  Chelsea       Aston Villa     1     1   D     1   \n",
      "162  E0    3/1/2021  16:30  Chelsea          Man City     1     3   A     0   \n",
      "\n",
      "     HTAG   ...    AvgC<2.5  AHCh  B365CAHH  B365CAHA  PCAHH  PCAHA  MaxCAHH  \\\n",
      "14      0   ...        2.34  0.25      2.07      1.86   2.04   1.89     2.19   \n",
      "28      0   ...        2.08 -1.00      1.93      2.00   1.95   1.97     1.95   \n",
      "39      1   ...        2.51 -1.00      2.00      1.90   2.06   1.88     2.08   \n",
      "72      1   ...        2.09 -1.25      1.86      2.07   1.89   2.04     1.91   \n",
      "94      0   ...        2.14 -0.50      2.02      1.88   2.00   1.93     2.05   \n",
      "101     1   ...        2.79 -1.25      2.07      1.86   2.06   1.87     2.08   \n",
      "136     0   ...        2.21 -1.00      2.06      1.87   2.07   1.86     2.09   \n",
      "148     0   ...        2.31 -1.00      2.35      1.58   2.59   1.56     2.65   \n",
      "162     3   ...        2.20  0.25      2.03      1.87   2.05   1.88     2.08   \n",
      "\n",
      "     MaxCAHA  AvgCAHH  AvgCAHA  \n",
      "14      1.89     2.08     1.81  \n",
      "28      2.08     1.90     1.98  \n",
      "39      1.98     1.97     1.91  \n",
      "72      2.11     1.86     2.03  \n",
      "94      1.93     2.02     1.86  \n",
      "101     1.97     2.01     1.87  \n",
      "136     1.97     1.99     1.86  \n",
      "148     1.64     2.45     1.59  \n",
      "162     1.93     2.01     1.87  \n",
      "\n",
      "[9 rows x 106 columns]\n"
     ]
    }
   ],
   "source": [
    "print(hometeam_stats)"
   ]
  },
  {
   "cell_type": "markdown",
   "metadata": {},
   "source": [
    "### Now need to work with dates to get weather data for home games"
   ]
  },
  {
   "cell_type": "code",
   "execution_count": 6,
   "metadata": {},
   "outputs": [],
   "source": [
    "date_array = hometeam_stats.iloc[:,1].values\n",
    "time_array = hometeam_stats.iloc[:,2].values"
   ]
  },
  {
   "cell_type": "code",
   "execution_count": 7,
   "metadata": {},
   "outputs": [
    {
     "name": "stdout",
     "output_type": "stream",
     "text": [
      "['20/09/2020' '3/10/2020' '17/10/2020' '7/11/2020' '29/11/2020'\n",
      " '5/12/2020' '21/12/2020' '28/12/2020' '3/1/2021'] ['16:30' '12:30' '15:00' '17:30' '16:30' '20:00' '20:00' '17:30' '16:30']\n"
     ]
    }
   ],
   "source": [
    "print(date_array, time_array)"
   ]
  },
  {
   "cell_type": "code",
   "execution_count": 8,
   "metadata": {
    "scrolled": true
   },
   "outputs": [
    {
     "name": "stdout",
     "output_type": "stream",
     "text": [
      "2020-09-20/2020-10-03/2020-10-17\n"
     ]
    }
   ],
   "source": [
    "## Convert dates into the format needed for ERA5 download\n",
    "\n",
    "dates_newformat = \"\"\n",
    "for i in date_array:\n",
    "    datetimeobject = datetime.strptime(i, '%d/%m/%Y')\n",
    "#     dates_newformat.append(datetimeobject.strftime('%Y-%m-%d'))\n",
    "    dates_newformat = dates_newformat+datetimeobject.strftime('%Y-%m-%d')+\"/\"\n",
    "\n",
    "dates_newformat = dates_newformat[0:32]\n",
    "print(dates_newformat)"
   ]
  },
  {
   "cell_type": "code",
   "execution_count": 9,
   "metadata": {},
   "outputs": [
    {
     "name": "stdout",
     "output_type": "stream",
     "text": [
      "51.98205052791857/-0.6909135846571512/50.98205052791857/0.3090864153428488\n"
     ]
    }
   ],
   "source": [
    "## Set up lat/long into coords for data retrieval ('xx/yy/xx/yy')\n",
    "\n",
    "lat_N = hometeam_lat+0.5\n",
    "lat_S = hometeam_lat-0.5\n",
    "lon_W = hometeam_lon-0.5\n",
    "lon_E = hometeam_lon+0.5\n",
    "\n",
    "location_str = str(lat_N)+\"/\"+str(lon_W)+\"/\"+str(lat_S)+\"/\"+str(lon_E)\n",
    "print(location_str)"
   ]
  },
  {
   "cell_type": "markdown",
   "metadata": {},
   "source": [
    "## Keep in mind that ERA5 data is only available up to 3 months prior to current date"
   ]
  },
  {
   "cell_type": "code",
   "execution_count": 10,
   "metadata": {},
   "outputs": [],
   "source": [
    "##Next step - feed date list into method to retrieve ERA5 data\n",
    "\n",
    "\n",
    "\n",
    "#soccer_wx_utils.ERA5_data_retrieval(dates_newformat, location_str, \"Chelsea_data.nc\")"
   ]
  },
  {
   "cell_type": "markdown",
   "metadata": {},
   "source": [
    "## Now let's take a look at the weather data we retrieved"
   ]
  },
  {
   "cell_type": "code",
   "execution_count": 11,
   "metadata": {},
   "outputs": [],
   "source": [
    "fn = 'Chelsea_data.nc'\n",
    "ds = nc.Dataset(fn)"
   ]
  },
  {
   "cell_type": "code",
   "execution_count": 12,
   "metadata": {
    "scrolled": true
   },
   "outputs": [
    {
     "name": "stdout",
     "output_type": "stream",
     "text": [
      "<class 'netCDF4._netCDF4.Variable'>\n",
      "float32 longitude(longitude)\n",
      "    units: degrees_east\n",
      "    long_name: longitude\n",
      "unlimited dimensions: \n",
      "current shape = (5,)\n",
      "filling on, default _FillValue of 9.969209968386869e+36 used\n",
      "\n",
      "<class 'netCDF4._netCDF4.Variable'>\n",
      "float32 latitude(latitude)\n",
      "    units: degrees_north\n",
      "    long_name: latitude\n",
      "unlimited dimensions: \n",
      "current shape = (4,)\n",
      "filling on, default _FillValue of 9.969209968386869e+36 used\n",
      "\n",
      "<class 'netCDF4._netCDF4.Variable'>\n",
      "int32 time(time)\n",
      "    units: hours since 1900-01-01 00:00:00.0\n",
      "    long_name: time\n",
      "    calendar: gregorian\n",
      "unlimited dimensions: \n",
      "current shape = (72,)\n",
      "filling on, default _FillValue of -2147483647 used\n",
      "\n",
      "<class 'netCDF4._netCDF4.Variable'>\n",
      "int16 sp(time, latitude, longitude)\n",
      "    scale_factor: 0.0722794241069385\n",
      "    add_offset: 99378.13573528794\n",
      "    _FillValue: -32767\n",
      "    missing_value: -32767\n",
      "    units: Pa\n",
      "    long_name: Surface pressure\n",
      "    standard_name: surface_air_pressure\n",
      "unlimited dimensions: \n",
      "current shape = (72, 4, 5)\n",
      "filling on\n",
      "<class 'netCDF4._netCDF4.Variable'>\n",
      "int16 u10(time, latitude, longitude)\n",
      "    scale_factor: 0.00016245622436099433\n",
      "    add_offset: 0.1927191447267935\n",
      "    _FillValue: -32767\n",
      "    missing_value: -32767\n",
      "    units: m s**-1\n",
      "    long_name: 10 metre U wind component\n",
      "unlimited dimensions: \n",
      "current shape = (72, 4, 5)\n",
      "filling on\n",
      "<class 'netCDF4._netCDF4.Variable'>\n",
      "int16 v10(time, latitude, longitude)\n",
      "    scale_factor: 0.00020856678703249547\n",
      "    add_offset: -1.1426040282856367\n",
      "    _FillValue: -32767\n",
      "    missing_value: -32767\n",
      "    units: m s**-1\n",
      "    long_name: 10 metre V wind component\n",
      "unlimited dimensions: \n",
      "current shape = (72, 4, 5)\n",
      "filling on\n",
      "<class 'netCDF4._netCDF4.Variable'>\n",
      "int16 t2m(time, latitude, longitude)\n",
      "    scale_factor: 0.0002401939649263062\n",
      "    add_offset: 288.60313612860347\n",
      "    _FillValue: -32767\n",
      "    missing_value: -32767\n",
      "    units: K\n",
      "    long_name: 2 metre temperature\n",
      "unlimited dimensions: \n",
      "current shape = (72, 4, 5)\n",
      "filling on\n",
      "<class 'netCDF4._netCDF4.Variable'>\n",
      "int16 d2m(time, latitude, longitude)\n",
      "    scale_factor: 0.00011691963005220176\n",
      "    add_offset: 283.2574870113764\n",
      "    _FillValue: -32767\n",
      "    missing_value: -32767\n",
      "    units: K\n",
      "    long_name: 2 metre dewpoint temperature\n",
      "unlimited dimensions: \n",
      "current shape = (72, 4, 5)\n",
      "filling on\n"
     ]
    }
   ],
   "source": [
    "for var in ds.variables.values():\n",
    "    print(var)"
   ]
  },
  {
   "cell_type": "code",
   "execution_count": 17,
   "metadata": {},
   "outputs": [
    {
     "name": "stdout",
     "output_type": "stream",
     "text": [
      "[-0.691   -0.44075 -0.1905   0.05975  0.31   ]\n",
      "[51.983 51.733 51.483 51.233]\n",
      "2 2\n"
     ]
    }
   ],
   "source": [
    "longitude = ds['longitude'][:]\n",
    "print(longitude)\n",
    "\n",
    "latitude = ds['latitude'][:]\n",
    "print(latitude)\n",
    "\n",
    "lon_idx = soccer_wx_utils.find_nearest(longitude, hometeam_lon)\n",
    "lat_idx = soccer_wx_utils.find_nearest(latitude, hometeam_lat)\n",
    "\n",
    "print(lat_idx, lon_idx)"
   ]
  },
  {
   "cell_type": "code",
   "execution_count": 20,
   "metadata": {},
   "outputs": [
    {
     "data": {
      "text/plain": [
       "(72,)"
      ]
     },
     "execution_count": 20,
     "metadata": {},
     "output_type": "execute_result"
    }
   ],
   "source": [
    "time = ds['time'][:]\n",
    "# time = datetime.datenum(1900,1,1,double(time),0,0)\n",
    "# print(time)\n",
    "\n",
    "time = ds.variables['time'] # do not cast to numpy array yet \n",
    "time_convert = nc.num2date(time[:], time.units, time.calendar)\n",
    "time.shape"
   ]
  },
  {
   "cell_type": "code",
   "execution_count": 19,
   "metadata": {},
   "outputs": [
    {
     "data": {
      "text/plain": [
       "(72,)"
      ]
     },
     "execution_count": 19,
     "metadata": {},
     "output_type": "execute_result"
    }
   ],
   "source": [
    "T = ds['t2m'][:,lat_idx,lon_idx] #2 meter temp (basically surface temp)\n",
    "T.shape"
   ]
  },
  {
   "cell_type": "code",
   "execution_count": 21,
   "metadata": {},
   "outputs": [
    {
     "name": "stdout",
     "output_type": "stream",
     "text": [
      "[287.71057535 287.53115046 287.37550477 287.30752988 287.19463872\n",
      " 287.22466296 287.19656027 287.637076   288.92043236 290.47785002\n",
      " 292.11741403 293.55065142 294.65434269 295.43425249 295.67060335\n",
      " 295.41455659 294.81383148 293.75121338 292.26873623 290.80955789\n",
      " 289.5992205  288.42347104 287.7883982  286.91625391 286.7855884\n",
      " 286.76637288 286.81393128 287.01377266 286.99984141 286.97726318\n",
      " 286.9763024  286.80600488 286.45868441 286.204319   286.23962751\n",
      " 286.10583948 285.87357191 286.23986771 286.60664389 286.93114594\n",
      " 286.64387396 286.17429476 285.87429249 285.53225629 285.04129982\n",
      " 284.62288194 284.47780478 283.97724056 282.18803571 282.32182375\n",
      " 282.3316717  282.42270522 282.56490004 282.1366342  282.19211901\n",
      " 282.06145349 282.19452095 282.40108776 282.94320554 283.51919067\n",
      " 283.99885801 284.437212   284.6243231  284.42592288 284.00246092\n",
      " 283.38372127 283.29845241 283.12743431 283.03856254 282.95065155\n",
      " 282.73063388 282.74312397]\n"
     ]
    }
   ],
   "source": [
    "print(T) "
   ]
  },
  {
   "cell_type": "code",
   "execution_count": null,
   "metadata": {},
   "outputs": [],
   "source": []
  }
 ],
 "metadata": {
  "kernelspec": {
   "display_name": "Python 3",
   "language": "python",
   "name": "python3"
  },
  "language_info": {
   "codemirror_mode": {
    "name": "ipython",
    "version": 3
   },
   "file_extension": ".py",
   "mimetype": "text/x-python",
   "name": "python",
   "nbconvert_exporter": "python",
   "pygments_lexer": "ipython3",
   "version": "3.6.8"
  }
 },
 "nbformat": 4,
 "nbformat_minor": 2
}
