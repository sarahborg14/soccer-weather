{
 "cells": [
  {
   "cell_type": "markdown",
   "metadata": {},
   "source": [
    "# This code is used to analyze EPL stats\n",
    "## Data acquired from http://www.football-data.co.uk/englandm.php\n",
    "\n"
   ]
  },
  {
   "cell_type": "markdown",
   "metadata": {},
   "source": [
    "Brainstorming ideas:\n",
    "    1. maybe make a lookup table for what numbers are associated with what parameters\n",
    "    2. eventually make a user interface for selections"
   ]
  },
  {
   "cell_type": "code",
   "execution_count": 32,
   "metadata": {},
   "outputs": [],
   "source": [
    "import os\n",
    "import pandas as pd\n",
    "import numpy as np\n",
    "from datetime import datetime\n",
    "import soccer_wx_utils\n",
    "import netCDF4 as nc\n",
    "import matplotlib.pyplot as plt"
   ]
  },
  {
   "cell_type": "code",
   "execution_count": 2,
   "metadata": {},
   "outputs": [],
   "source": [
    "## User inputs (one day make lat/lon automated? Like auto search/vlookup based on team selected)\n",
    "\n",
    "path = 'EPL_stats/'\n",
    "hometeam = 'Chelsea' #pick the team you want to analyze\n",
    "hometeam_lat =  51.48205052791857 \n",
    "hometeam_lon = -0.1909135846571512 #enter the coordinates of the home team's stadium (only valid if outdoor)"
   ]
  },
  {
   "cell_type": "code",
   "execution_count": 4,
   "metadata": {},
   "outputs": [],
   "source": [
    "all_stats = pd.read_csv(path+'20-21.csv')\n",
    "all_stats.shape\n",
    "\n",
    "\n",
    "hometeam_stats = all_stats[all_stats['HomeTeam'] == hometeam]"
   ]
  },
  {
   "cell_type": "code",
   "execution_count": 5,
   "metadata": {
    "scrolled": true
   },
   "outputs": [
    {
     "name": "stdout",
     "output_type": "stream",
     "text": [
      "    Div        Date   Time HomeTeam          AwayTeam  FTHG  FTAG FTR  HTHG  \\\n",
      "14   E0  20/09/2020  16:30  Chelsea         Liverpool     0     2   A     0   \n",
      "28   E0   3/10/2020  12:30  Chelsea    Crystal Palace     4     0   H     0   \n",
      "39   E0  17/10/2020  15:00  Chelsea       Southampton     3     3   D     2   \n",
      "72   E0   7/11/2020  17:30  Chelsea  Sheffield United     4     1   H     2   \n",
      "94   E0  29/11/2020  16:30  Chelsea         Tottenham     0     0   D     0   \n",
      "101  E0   5/12/2020  20:00  Chelsea             Leeds     3     1   H     1   \n",
      "136  E0  21/12/2020  20:00  Chelsea          West Ham     3     0   H     1   \n",
      "148  E0  28/12/2020  17:30  Chelsea       Aston Villa     1     1   D     1   \n",
      "162  E0    3/1/2021  16:30  Chelsea          Man City     1     3   A     0   \n",
      "\n",
      "     HTAG   ...    AvgC<2.5  AHCh  B365CAHH  B365CAHA  PCAHH  PCAHA  MaxCAHH  \\\n",
      "14      0   ...        2.34  0.25      2.07      1.86   2.04   1.89     2.19   \n",
      "28      0   ...        2.08 -1.00      1.93      2.00   1.95   1.97     1.95   \n",
      "39      1   ...        2.51 -1.00      2.00      1.90   2.06   1.88     2.08   \n",
      "72      1   ...        2.09 -1.25      1.86      2.07   1.89   2.04     1.91   \n",
      "94      0   ...        2.14 -0.50      2.02      1.88   2.00   1.93     2.05   \n",
      "101     1   ...        2.79 -1.25      2.07      1.86   2.06   1.87     2.08   \n",
      "136     0   ...        2.21 -1.00      2.06      1.87   2.07   1.86     2.09   \n",
      "148     0   ...        2.31 -1.00      2.35      1.58   2.59   1.56     2.65   \n",
      "162     3   ...        2.20  0.25      2.03      1.87   2.05   1.88     2.08   \n",
      "\n",
      "     MaxCAHA  AvgCAHH  AvgCAHA  \n",
      "14      1.89     2.08     1.81  \n",
      "28      2.08     1.90     1.98  \n",
      "39      1.98     1.97     1.91  \n",
      "72      2.11     1.86     2.03  \n",
      "94      1.93     2.02     1.86  \n",
      "101     1.97     2.01     1.87  \n",
      "136     1.97     1.99     1.86  \n",
      "148     1.64     2.45     1.59  \n",
      "162     1.93     2.01     1.87  \n",
      "\n",
      "[9 rows x 106 columns]\n"
     ]
    }
   ],
   "source": [
    "print(hometeam_stats)"
   ]
  },
  {
   "cell_type": "markdown",
   "metadata": {},
   "source": [
    "### Now need to work with dates to get weather data for home games"
   ]
  },
  {
   "cell_type": "code",
   "execution_count": 121,
   "metadata": {},
   "outputs": [
    {
     "name": "stdout",
     "output_type": "stream",
     "text": [
      "[['H']\n",
      " ['H']\n",
      " ['H']\n",
      " ['H']]\n"
     ]
    }
   ],
   "source": [
    "date_array = hometeam_stats.iloc[:,1].values\n",
    "time_array = hometeam_stats.iloc[:,2].values\n",
    "game_result = hometeam_stats.iloc[:,7].values\n",
    "HT_wins = np.argwhere(game_result==\"H\")\n",
    "# print(game_result[np.argwhere(game_result==\"H\")])"
   ]
  },
  {
   "cell_type": "code",
   "execution_count": 107,
   "metadata": {},
   "outputs": [
    {
     "name": "stdout",
     "output_type": "stream",
     "text": [
      "[datetime.datetime(2020, 9, 20, 16, 30), datetime.datetime(2020, 10, 3, 12, 30), datetime.datetime(2020, 10, 17, 15, 0), datetime.datetime(2020, 11, 7, 17, 30), datetime.datetime(2020, 11, 29, 16, 30), datetime.datetime(2020, 12, 5, 20, 0), datetime.datetime(2020, 12, 21, 20, 0), datetime.datetime(2020, 12, 28, 17, 30), datetime.datetime(2021, 1, 3, 16, 30)]\n"
     ]
    }
   ],
   "source": [
    "homegame_datetime_objects = []\n",
    "for i in range(len(date_array)):\n",
    "#     print(datetime.strptime(date_array[i]+' '+time_array[i], '%d/%m/%Y %H:%M'))\n",
    "    homegame_datetime_objects.append(datetime.strptime(date_array[i]+' '+time_array[i], '%d/%m/%Y %H:%M'))\n",
    "# datetime.strptime(date_array[0]+' 16:30', '%d/%m/%Y %H:%M')\n",
    "print(homegame_datetime_objects)"
   ]
  },
  {
   "cell_type": "code",
   "execution_count": 108,
   "metadata": {},
   "outputs": [
    {
     "name": "stdout",
     "output_type": "stream",
     "text": [
      "2020-09-20/2020-10-03/2020-10-17\n",
      "51.98205052791857/-0.6909135846571512/50.98205052791857/0.3090864153428488\n"
     ]
    }
   ],
   "source": [
    "## Convert game date/time/location data into the format needed for ERA5 download\n",
    "\n",
    "dates_newformat = \"\"\n",
    "for i in date_array:\n",
    "    datetimeobject = datetime.strptime(i, '%d/%m/%Y')\n",
    "#     dates_newformat.append(datetimeobject.strftime('%Y-%m-%d'))\n",
    "    dates_newformat = dates_newformat+datetimeobject.strftime('%Y-%m-%d')+\"/\"\n",
    "\n",
    "###only cutting off at 32 right now because of ERA data available (up to 3 months prior to current date)\n",
    "# This will need to be changed to be more efficient and/or recognize the 3 month limit \n",
    "dates_newformat = dates_newformat[0:32] \n",
    "print(dates_newformat)\n",
    "\n",
    "## Set up lat/long into coords for data retrieval ('xx/yy/xx/yy')\n",
    "\n",
    "lat_N = hometeam_lat+0.5\n",
    "lat_S = hometeam_lat-0.5\n",
    "lon_W = hometeam_lon-0.5\n",
    "lon_E = hometeam_lon+0.5\n",
    "\n",
    "location_str = str(lat_N)+\"/\"+str(lon_W)+\"/\"+str(lat_S)+\"/\"+str(lon_E)\n",
    "print(location_str)"
   ]
  },
  {
   "cell_type": "markdown",
   "metadata": {},
   "source": [
    "## Keep in mind that ERA5 data is only available up to 3 months prior to current date\n",
    "### Next cell is data retrieval "
   ]
  },
  {
   "cell_type": "code",
   "execution_count": 10,
   "metadata": {},
   "outputs": [],
   "source": [
    "##Next step - feed date list into method to retrieve ERA5 data\n",
    "\n",
    "#soccer_wx_utils.ERA5_data_retrieval(dates_newformat, location_str, \"Chelsea_data.nc\")"
   ]
  },
  {
   "cell_type": "markdown",
   "metadata": {},
   "source": [
    "## Now let's take a look at the weather data we retrieved"
   ]
  },
  {
   "cell_type": "code",
   "execution_count": 95,
   "metadata": {
    "scrolled": true
   },
   "outputs": [],
   "source": [
    "fn = 'Chelsea_data.nc'\n",
    "ds = nc.Dataset(fn)\n",
    "\n",
    "# for var in ds.variables.values():\n",
    "#     print(var)"
   ]
  },
  {
   "cell_type": "code",
   "execution_count": 94,
   "metadata": {},
   "outputs": [
    {
     "name": "stdout",
     "output_type": "stream",
     "text": [
      "[-0.691   -0.44075 -0.1905   0.05975  0.31   ]\n",
      "[51.983 51.733 51.483 51.233]\n"
     ]
    }
   ],
   "source": [
    "longitude = ds['longitude'][:]\n",
    "print(longitude)\n",
    "\n",
    "latitude = ds['latitude'][:]\n",
    "print(latitude)\n",
    "\n",
    "#Get the index of the nearest lat/lon from the dataset \n",
    "lon_idx = soccer_wx_utils.find_nearest(longitude, hometeam_lon)\n",
    "lat_idx = soccer_wx_utils.find_nearest(latitude, hometeam_lat)\n",
    "\n",
    "#print(lat_idx, lon_idx)"
   ]
  },
  {
   "cell_type": "code",
   "execution_count": 105,
   "metadata": {
    "scrolled": true
   },
   "outputs": [
    {
     "name": "stdout",
     "output_type": "stream",
     "text": [
      "[datetime.datetime(2020, 9, 20, 0, 0) datetime.datetime(2020, 9, 20, 1, 0)\n",
      " datetime.datetime(2020, 9, 20, 2, 0) datetime.datetime(2020, 9, 20, 3, 0)\n",
      " datetime.datetime(2020, 9, 20, 4, 0) datetime.datetime(2020, 9, 20, 5, 0)\n",
      " datetime.datetime(2020, 9, 20, 6, 0) datetime.datetime(2020, 9, 20, 7, 0)\n",
      " datetime.datetime(2020, 9, 20, 8, 0) datetime.datetime(2020, 9, 20, 9, 0)\n",
      " datetime.datetime(2020, 9, 20, 10, 0)\n",
      " datetime.datetime(2020, 9, 20, 11, 0)\n",
      " datetime.datetime(2020, 9, 20, 12, 0)\n",
      " datetime.datetime(2020, 9, 20, 13, 0)\n",
      " datetime.datetime(2020, 9, 20, 14, 0)\n",
      " datetime.datetime(2020, 9, 20, 15, 0)\n",
      " datetime.datetime(2020, 9, 20, 16, 0)\n",
      " datetime.datetime(2020, 9, 20, 17, 0)\n",
      " datetime.datetime(2020, 9, 20, 18, 0)\n",
      " datetime.datetime(2020, 9, 20, 19, 0)\n",
      " datetime.datetime(2020, 9, 20, 20, 0)\n",
      " datetime.datetime(2020, 9, 20, 21, 0)\n",
      " datetime.datetime(2020, 9, 20, 22, 0)\n",
      " datetime.datetime(2020, 9, 20, 23, 0)\n",
      " datetime.datetime(2020, 10, 3, 0, 0) datetime.datetime(2020, 10, 3, 1, 0)\n",
      " datetime.datetime(2020, 10, 3, 2, 0) datetime.datetime(2020, 10, 3, 3, 0)\n",
      " datetime.datetime(2020, 10, 3, 4, 0) datetime.datetime(2020, 10, 3, 5, 0)\n",
      " datetime.datetime(2020, 10, 3, 6, 0) datetime.datetime(2020, 10, 3, 7, 0)\n",
      " datetime.datetime(2020, 10, 3, 8, 0) datetime.datetime(2020, 10, 3, 9, 0)\n",
      " datetime.datetime(2020, 10, 3, 10, 0)\n",
      " datetime.datetime(2020, 10, 3, 11, 0)\n",
      " datetime.datetime(2020, 10, 3, 12, 0)\n",
      " datetime.datetime(2020, 10, 3, 13, 0)\n",
      " datetime.datetime(2020, 10, 3, 14, 0)\n",
      " datetime.datetime(2020, 10, 3, 15, 0)\n",
      " datetime.datetime(2020, 10, 3, 16, 0)\n",
      " datetime.datetime(2020, 10, 3, 17, 0)\n",
      " datetime.datetime(2020, 10, 3, 18, 0)\n",
      " datetime.datetime(2020, 10, 3, 19, 0)\n",
      " datetime.datetime(2020, 10, 3, 20, 0)\n",
      " datetime.datetime(2020, 10, 3, 21, 0)\n",
      " datetime.datetime(2020, 10, 3, 22, 0)\n",
      " datetime.datetime(2020, 10, 3, 23, 0)\n",
      " datetime.datetime(2020, 10, 17, 0, 0)\n",
      " datetime.datetime(2020, 10, 17, 1, 0)\n",
      " datetime.datetime(2020, 10, 17, 2, 0)\n",
      " datetime.datetime(2020, 10, 17, 3, 0)\n",
      " datetime.datetime(2020, 10, 17, 4, 0)\n",
      " datetime.datetime(2020, 10, 17, 5, 0)\n",
      " datetime.datetime(2020, 10, 17, 6, 0)\n",
      " datetime.datetime(2020, 10, 17, 7, 0)\n",
      " datetime.datetime(2020, 10, 17, 8, 0)\n",
      " datetime.datetime(2020, 10, 17, 9, 0)\n",
      " datetime.datetime(2020, 10, 17, 10, 0)\n",
      " datetime.datetime(2020, 10, 17, 11, 0)\n",
      " datetime.datetime(2020, 10, 17, 12, 0)\n",
      " datetime.datetime(2020, 10, 17, 13, 0)\n",
      " datetime.datetime(2020, 10, 17, 14, 0)\n",
      " datetime.datetime(2020, 10, 17, 15, 0)\n",
      " datetime.datetime(2020, 10, 17, 16, 0)\n",
      " datetime.datetime(2020, 10, 17, 17, 0)\n",
      " datetime.datetime(2020, 10, 17, 18, 0)\n",
      " datetime.datetime(2020, 10, 17, 19, 0)\n",
      " datetime.datetime(2020, 10, 17, 20, 0)\n",
      " datetime.datetime(2020, 10, 17, 21, 0)\n",
      " datetime.datetime(2020, 10, 17, 22, 0)\n",
      " datetime.datetime(2020, 10, 17, 23, 0)]\n"
     ]
    }
   ],
   "source": [
    "time = ds['time'][:]\n",
    "\n",
    "time = ds.variables['time'] # do not cast to numpy array yet \n",
    "wx_datetimes = nc.num2date(time[:], time.units, time.calendar)\n",
    "time.shape\n",
    "print(wx_datetimes)\n",
    "\n"
   ]
  },
  {
   "cell_type": "code",
   "execution_count": 112,
   "metadata": {},
   "outputs": [
    {
     "name": "stdout",
     "output_type": "stream",
     "text": [
      "2020-09-20 16:00:00 [[datetime.datetime(2020, 9, 20, 16, 0)]]\n",
      "2020-10-03 12:00:00 [[datetime.datetime(2020, 10, 3, 12, 0)]]\n",
      "2020-10-17 15:00:00 [[datetime.datetime(2020, 10, 17, 15, 0)]]\n",
      "2020-10-17 23:00:00 [[datetime.datetime(2020, 10, 17, 23, 0)]]\n",
      "2020-10-17 23:00:00 [[datetime.datetime(2020, 10, 17, 23, 0)]]\n",
      "2020-10-17 23:00:00 [[datetime.datetime(2020, 10, 17, 23, 0)]]\n",
      "2020-10-17 23:00:00 [[datetime.datetime(2020, 10, 17, 23, 0)]]\n",
      "2020-10-17 23:00:00 [[datetime.datetime(2020, 10, 17, 23, 0)]]\n",
      "2020-10-17 23:00:00 [[datetime.datetime(2020, 10, 17, 23, 0)]]\n",
      "[16, 36, 63, 71, 71, 71, 71, 71, 71]\n"
     ]
    }
   ],
   "source": [
    "##This will give you the closest date/time in the data to the game date/time\n",
    "\n",
    "indx = []\n",
    "for i in range(len(homegame_datetime_objects)):\n",
    "    close = min(wx_datetimes, key=lambda d: abs(d - homegame_datetime_objects[i]))\n",
    "    x=np.argwhere(wx_datetimes == close)\n",
    "    print(close, wx_datetimes[x]) #these should all match \n",
    "    indx.append(int(x[0]))\n",
    "    \n",
    "\n",
    "print(indx)\n",
    "\n",
    "## indx gives the indices within the Wx data that match the game times"
   ]
  },
  {
   "cell_type": "code",
   "execution_count": 113,
   "metadata": {},
   "outputs": [
    {
     "name": "stdout",
     "output_type": "stream",
     "text": [
      "0\n",
      "(9,)\n"
     ]
    }
   ],
   "source": [
    "T = ds['t2m'][indx,lat_idx,lon_idx] #2 meter temp (basically surface temp) \n",
    "## Only taken at the indices of the game times (use of indx)\n",
    "\n",
    "num_games = int(int(T.shape[0])/24)## How many games you have in the data set\n",
    "## Each game gives you 24 hours of data \n",
    "print(num_games) # Not sure if this is needed for anything\n",
    "\n",
    "print(T.shape)"
   ]
  },
  {
   "cell_type": "code",
   "execution_count": 114,
   "metadata": {},
   "outputs": [
    {
     "name": "stdout",
     "output_type": "stream",
     "text": [
      "[294.81383148 285.87357191 284.42592288 282.74312397 282.74312397\n",
      " 282.74312397 282.74312397 282.74312397 282.74312397]\n"
     ]
    }
   ],
   "source": [
    "print(T) \n",
    "\n"
   ]
  },
  {
   "cell_type": "code",
   "execution_count": 124,
   "metadata": {},
   "outputs": [
    {
     "data": {
      "image/png": "[encoded data removed]",
      "text/plain": [
       "<Figure size 432x288 with 1 Axes>"
      ]
     },
     "metadata": {},
     "output_type": "display_data"
    }
   ],
   "source": [
    "plt.scatter(wx_datetimes[indx],T)\n",
    "plt.xticks( rotation = 45)\n",
    "plt.show()\n",
    "\n",
    "##Idea: Try color coding dots based on win/loss "
   ]
  },
  {
   "cell_type": "code",
   "execution_count": null,
   "metadata": {},
   "outputs": [],
   "source": []
  }
 ],
 "metadata": {
  "kernelspec": {
   "display_name": "Python 3",
   "language": "python",
   "name": "python3"
  },
  "language_info": {
   "codemirror_mode": {
    "name": "ipython",
    "version": 3
   },
   "file_extension": ".py",
   "mimetype": "text/x-python",
   "name": "python",
   "nbconvert_exporter": "python",
   "pygments_lexer": "ipython3",
   "version": "3.6.8"
  }
 },
 "nbformat": 4,
 "nbformat_minor": 2
}
