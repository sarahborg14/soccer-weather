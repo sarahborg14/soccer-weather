{
 "cells": [
  {
   "cell_type": "markdown",
   "metadata": {},
   "source": [
    "# This code is used to analyze EPL stats\n",
    "## Data acquired from http://www.football-data.co.uk/englandm.php\n",
    "\n"
   ]
  },
  {
   "cell_type": "code",
   "execution_count": 35,
   "metadata": {},
   "outputs": [],
   "source": [
    "import os\n",
    "import pandas as pd\n",
    "import numpy as np\n",
    "from datetime import datetime"
   ]
  },
  {
   "cell_type": "code",
   "execution_count": 16,
   "metadata": {},
   "outputs": [],
   "source": [
    "path = 'EPL_stats/'\n",
    "hometeam = 'Chelsea' #pick the team you want to analyze\n",
    "hometeam_coords = '' #enter the coordinates of the home team's stadium (only valid if outdoor)"
   ]
  },
  {
   "cell_type": "code",
   "execution_count": 13,
   "metadata": {},
   "outputs": [
    {
     "data": {
      "text/plain": [
       "(178, 106)"
      ]
     },
     "execution_count": 13,
     "metadata": {},
     "output_type": "execute_result"
    }
   ],
   "source": [
    "all_stats = pd.read_csv(path+'20-21.csv')\n",
    "\n",
    "\n",
    "all_stats.shape\n"
   ]
  },
  {
   "cell_type": "code",
   "execution_count": 17,
   "metadata": {},
   "outputs": [],
   "source": [
    "hometeam_stats = all_stats[all_stats['HomeTeam'] == hometeam]"
   ]
  },
  {
   "cell_type": "code",
   "execution_count": 18,
   "metadata": {},
   "outputs": [
    {
     "name": "stdout",
     "output_type": "stream",
     "text": [
      "    Div        Date   Time HomeTeam          AwayTeam  FTHG  FTAG FTR  HTHG  \\\n",
      "14   E0  20/09/2020  16:30  Chelsea         Liverpool     0     2   A     0   \n",
      "28   E0   3/10/2020  12:30  Chelsea    Crystal Palace     4     0   H     0   \n",
      "39   E0  17/10/2020  15:00  Chelsea       Southampton     3     3   D     2   \n",
      "72   E0   7/11/2020  17:30  Chelsea  Sheffield United     4     1   H     2   \n",
      "94   E0  29/11/2020  16:30  Chelsea         Tottenham     0     0   D     0   \n",
      "101  E0   5/12/2020  20:00  Chelsea             Leeds     3     1   H     1   \n",
      "136  E0  21/12/2020  20:00  Chelsea          West Ham     3     0   H     1   \n",
      "148  E0  28/12/2020  17:30  Chelsea       Aston Villa     1     1   D     1   \n",
      "162  E0    3/1/2021  16:30  Chelsea          Man City     1     3   A     0   \n",
      "\n",
      "     HTAG   ...    AvgC<2.5  AHCh  B365CAHH  B365CAHA  PCAHH  PCAHA  MaxCAHH  \\\n",
      "14      0   ...        2.34  0.25      2.07      1.86   2.04   1.89     2.19   \n",
      "28      0   ...        2.08 -1.00      1.93      2.00   1.95   1.97     1.95   \n",
      "39      1   ...        2.51 -1.00      2.00      1.90   2.06   1.88     2.08   \n",
      "72      1   ...        2.09 -1.25      1.86      2.07   1.89   2.04     1.91   \n",
      "94      0   ...        2.14 -0.50      2.02      1.88   2.00   1.93     2.05   \n",
      "101     1   ...        2.79 -1.25      2.07      1.86   2.06   1.87     2.08   \n",
      "136     0   ...        2.21 -1.00      2.06      1.87   2.07   1.86     2.09   \n",
      "148     0   ...        2.31 -1.00      2.35      1.58   2.59   1.56     2.65   \n",
      "162     3   ...        2.20  0.25      2.03      1.87   2.05   1.88     2.08   \n",
      "\n",
      "     MaxCAHA  AvgCAHH  AvgCAHA  \n",
      "14      1.89     2.08     1.81  \n",
      "28      2.08     1.90     1.98  \n",
      "39      1.98     1.97     1.91  \n",
      "72      2.11     1.86     2.03  \n",
      "94      1.93     2.02     1.86  \n",
      "101     1.97     2.01     1.87  \n",
      "136     1.97     1.99     1.86  \n",
      "148     1.64     2.45     1.59  \n",
      "162     1.93     2.01     1.87  \n",
      "\n",
      "[9 rows x 106 columns]\n"
     ]
    }
   ],
   "source": [
    "print(hometeam_stats)"
   ]
  },
  {
   "cell_type": "markdown",
   "metadata": {},
   "source": [
    "### Now need to work with dates to get weather data for home games"
   ]
  },
  {
   "cell_type": "code",
   "execution_count": 33,
   "metadata": {},
   "outputs": [],
   "source": [
    "date_array = hometeam_stats.iloc[:,1].values\n",
    "time_array = hometeam_stats.iloc[:,2].values"
   ]
  },
  {
   "cell_type": "code",
   "execution_count": 34,
   "metadata": {},
   "outputs": [
    {
     "name": "stdout",
     "output_type": "stream",
     "text": [
      "['20/09/2020' '3/10/2020' '17/10/2020' '7/11/2020' '29/11/2020'\n",
      " '5/12/2020' '21/12/2020' '28/12/2020' '3/1/2021'] ['16:30' '12:30' '15:00' '17:30' '16:30' '20:00' '20:00' '17:30' '16:30']\n"
     ]
    }
   ],
   "source": [
    "print(date_array, time_array)"
   ]
  },
  {
   "cell_type": "code",
   "execution_count": 47,
   "metadata": {},
   "outputs": [
    {
     "name": "stdout",
     "output_type": "stream",
     "text": [
      "['2020-09-20', '2020-10-03', '2020-10-17', '2020-11-07', '2020-11-29', '2020-12-05', '2020-12-21', '2020-12-28', '2021-01-03']\n"
     ]
    }
   ],
   "source": [
    "## Convert dates into the format needed for ERA5 download\n",
    "\n",
    "dates_newformat = []\n",
    "for i in date_array:\n",
    "    datetimeobject = datetime.strptime(i, '%d/%m/%Y')\n",
    "    dates_newformat.append(datetimeobject.strftime('%Y-%m-%d'))\n",
    "\n",
    "print(dates_newformat)"
   ]
  },
  {
   "cell_type": "code",
   "execution_count": null,
   "metadata": {},
   "outputs": [],
   "source": [
    "##Next step - how to get this date list into the ERA5 retrieval file? "
   ]
  }
 ],
 "metadata": {
  "kernelspec": {
   "display_name": "Python 3",
   "language": "python",
   "name": "python3"
  },
  "language_info": {
   "codemirror_mode": {
    "name": "ipython",
    "version": 3
   },
   "file_extension": ".py",
   "mimetype": "text/x-python",
   "name": "python",
   "nbconvert_exporter": "python",
   "pygments_lexer": "ipython3",
   "version": "3.7.1"
  }
 },
 "nbformat": 4,
 "nbformat_minor": 2
}
